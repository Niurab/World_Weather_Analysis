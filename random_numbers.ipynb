{
 "cells": [
  {
   "cell_type": "code",
   "execution_count": 1,
   "id": "ecb3a495",
   "metadata": {},
   "outputs": [],
   "source": [
    "# Import the random module\n",
    "import random"
   ]
  },
  {
   "cell_type": "code",
   "execution_count": 2,
   "id": "fc547ba8",
   "metadata": {},
   "outputs": [
    {
     "data": {
      "text/plain": [
       "-49"
      ]
     },
     "execution_count": 2,
     "metadata": {},
     "output_type": "execute_result"
    }
   ],
   "source": [
    "random.randint(-90, 90)"
   ]
  },
  {
   "cell_type": "code",
   "execution_count": 3,
   "id": "4962d8ff",
   "metadata": {},
   "outputs": [
    {
     "data": {
      "text/plain": [
       "0.6394335561959169"
      ]
     },
     "execution_count": 3,
     "metadata": {},
     "output_type": "execute_result"
    }
   ],
   "source": [
    "random.random()"
   ]
  },
  {
   "cell_type": "code",
   "execution_count": 4,
   "id": "5c7feedf",
   "metadata": {},
   "outputs": [],
   "source": [
    "random_number = random.randint(-90, 89) + random.random()"
   ]
  },
  {
   "cell_type": "code",
   "execution_count": 5,
   "id": "db64ae1e",
   "metadata": {},
   "outputs": [
    {
     "data": {
      "text/plain": [
       "-14.098735086079525"
      ]
     },
     "execution_count": 5,
     "metadata": {},
     "output_type": "execute_result"
    }
   ],
   "source": [
    "random_number"
   ]
  },
  {
   "cell_type": "code",
   "execution_count": 6,
   "id": "f5eb3183",
   "metadata": {},
   "outputs": [],
   "source": [
    "x = 1\n",
    "latitudes = []\n",
    "while x < 11:\n",
    "    random_lat = random.randint(-90, 89) + random.random()\n",
    "    latitudes.append(random_lat)\n",
    "    x +=1"
   ]
  },
  {
   "cell_type": "code",
   "execution_count": 7,
   "id": "cd0cf094",
   "metadata": {},
   "outputs": [
    {
     "data": {
      "text/plain": [
       "-61.23947034892618"
      ]
     },
     "execution_count": 7,
     "metadata": {},
     "output_type": "execute_result"
    }
   ],
   "source": [
    "random_lat"
   ]
  },
  {
   "cell_type": "code",
   "execution_count": 8,
   "id": "b70c5e34",
   "metadata": {
    "scrolled": true
   },
   "outputs": [
    {
     "data": {
      "text/plain": [
       "[8.835930798637609,\n",
       " 61.92795901863422,\n",
       " 73.52701006943376,\n",
       " -45.79373841454416,\n",
       " 65.74567304832328,\n",
       " 29.640587940973703,\n",
       " 8.179491919900084,\n",
       " -57.78083760286182,\n",
       " 50.96361404198614,\n",
       " -61.23947034892618]"
      ]
     },
     "execution_count": 8,
     "metadata": {},
     "output_type": "execute_result"
    }
   ],
   "source": [
    "latitudes"
   ]
  },
  {
   "cell_type": "code",
   "execution_count": 9,
   "id": "2568745c",
   "metadata": {},
   "outputs": [
    {
     "data": {
      "text/plain": [
       "-2"
      ]
     },
     "execution_count": 9,
     "metadata": {},
     "output_type": "execute_result"
    }
   ],
   "source": [
    "random.randrange(-90, 90, step=1)"
   ]
  },
  {
   "cell_type": "code",
   "execution_count": 10,
   "id": "0b21e181",
   "metadata": {},
   "outputs": [
    {
     "data": {
      "text/plain": [
       "-21"
      ]
     },
     "execution_count": 10,
     "metadata": {},
     "output_type": "execute_result"
    }
   ],
   "source": [
    "random.randrange(-90, 90, step = 3)"
   ]
  },
  {
   "cell_type": "code",
   "execution_count": 11,
   "id": "b7172fb0",
   "metadata": {},
   "outputs": [
    {
     "data": {
      "text/plain": [
       "25.184687342649198"
      ]
     },
     "execution_count": 11,
     "metadata": {},
     "output_type": "execute_result"
    }
   ],
   "source": [
    "random.uniform(-90, 90)"
   ]
  },
  {
   "cell_type": "code",
   "execution_count": 12,
   "id": "3f33d284",
   "metadata": {},
   "outputs": [],
   "source": [
    "# Import the Numpy module\n",
    "import numpy as np"
   ]
  },
  {
   "cell_type": "code",
   "execution_count": 13,
   "id": "045788a7",
   "metadata": {},
   "outputs": [
    {
     "data": {
      "text/plain": [
       "-10.523572024291212"
      ]
     },
     "execution_count": 13,
     "metadata": {},
     "output_type": "execute_result"
    }
   ],
   "source": [
    "np.random.uniform(-90.000, 90.000)"
   ]
  },
  {
   "cell_type": "code",
   "execution_count": 14,
   "id": "d58cb15e",
   "metadata": {},
   "outputs": [
    {
     "data": {
      "text/plain": [
       "-46.34423221150002"
      ]
     },
     "execution_count": 14,
     "metadata": {},
     "output_type": "execute_result"
    }
   ],
   "source": [
    "np.random.uniform(low=-90, high=90)"
   ]
  },
  {
   "cell_type": "code",
   "execution_count": 15,
   "id": "832cd588",
   "metadata": {},
   "outputs": [
    {
     "data": {
      "text/plain": [
       "array([ 56.74960707,  75.30603171,  25.15278016, -75.04927536,\n",
       "        69.76906221,   2.68651579,  51.43884874, -54.27039276,\n",
       "       -82.74650336, -62.05183024, -84.00474282, -61.68986029,\n",
       "       -88.02238327,  43.08059826,  45.12525676,   6.18080416,\n",
       "         2.55276761, -88.12339206,  56.74977366, -46.86694258,\n",
       "        -6.0658607 ,  63.18117679, -21.17256733,  38.35800227,\n",
       "         3.62766426,  35.95485035, -12.28109491,   8.29540425,\n",
       "       -19.47895733, -41.49665954, -10.07067556, -48.50822355,\n",
       "       -56.70454446, -20.67530473,  -7.80026576,   7.56559733,\n",
       "        76.99611471, -76.78345191,   3.48825748,  51.26411523,\n",
       "        69.14720828,  65.71497855,  16.82013947, -30.96353054,\n",
       "        45.37438958, -45.67319624,  14.56141696, -64.14027133,\n",
       "       -72.0224845 , -87.43022451])"
      ]
     },
     "execution_count": 15,
     "metadata": {},
     "output_type": "execute_result"
    }
   ],
   "source": [
    "np.random.uniform(-90.000, 90.000, size=50)"
   ]
  },
  {
   "cell_type": "code",
   "execution_count": 16,
   "id": "69d8bc69",
   "metadata": {},
   "outputs": [],
   "source": [
    "# Import timeit\n",
    "import timeit"
   ]
  },
  {
   "cell_type": "code",
   "execution_count": 17,
   "id": "4036802c",
   "metadata": {},
   "outputs": [
    {
     "name": "stdout",
     "output_type": "stream",
     "text": [
      "70.8 µs ± 3.51 µs per loop (mean ± std. dev. of 7 runs, 10000 loops each)\n"
     ]
    }
   ],
   "source": [
    "%timeit np.random.uniform(-90.000, 90.000, size=1500)"
   ]
  },
  {
   "cell_type": "code",
   "execution_count": 18,
   "id": "52214081",
   "metadata": {},
   "outputs": [
    {
     "name": "stdout",
     "output_type": "stream",
     "text": [
      "8.39 ms ± 147 µs per loop (mean ± std. dev. of 7 runs, 100 loops each)\n"
     ]
    }
   ],
   "source": [
    "def latitudes(size):\n",
    "    latitudes = []\n",
    "    x = 0\n",
    "    while x < (size):\n",
    "        random_lat = random.randint(-90, 90) + random.random()\n",
    "        latitudes.append(random_lat)\n",
    "        x += 1\n",
    "    return latitudes\n",
    "# Call the function with 1500.\n",
    "%timeit latitudes(1500)"
   ]
  },
  {
   "cell_type": "code",
   "execution_count": null,
   "id": "c12df82a",
   "metadata": {},
   "outputs": [],
   "source": []
  }
 ],
 "metadata": {
  "kernelspec": {
   "display_name": "PythonData",
   "language": "python",
   "name": "pythondata"
  },
  "language_info": {
   "codemirror_mode": {
    "name": "ipython",
    "version": 3
   },
   "file_extension": ".py",
   "mimetype": "text/x-python",
   "name": "python",
   "nbconvert_exporter": "python",
   "pygments_lexer": "ipython3",
   "version": "3.7.10"
  }
 },
 "nbformat": 4,
 "nbformat_minor": 5
}
